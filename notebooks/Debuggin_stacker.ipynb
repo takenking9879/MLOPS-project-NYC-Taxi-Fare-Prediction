{
 "cells": [
  {
   "cell_type": "code",
   "execution_count": null,
   "id": "8f238687",
   "metadata": {},
   "outputs": [],
   "source": [
    "import numpy as np\n",
    "from sklearn.linear_model import LinearRegression\n",
    "from sklearn.metrics import mean_squared_error, r2_score\n",
    "\n",
    "class StackingRegressorManual:\n",
    "    def __init__(self, base_models, meta_model=None):\n",
    "        \"\"\"\n",
    "        base_models : list de modelos ya entrenados [model1, model2, ...]\n",
    "        meta_model : modelo que combina las predicciones de los base_models\n",
    "                     si None, se usa LinearRegression por defecto\n",
    "        \"\"\"\n",
    "        self.base_models = base_models\n",
    "        self.meta_model = meta_model if meta_model is not None else LinearRegression()\n",
    "    \n",
    "    def fit(self, X_train, y_train):\n",
    "        \"\"\"\n",
    "        Entrena el meta-modelo usando las predicciones de los modelos base sobre train\n",
    "        \"\"\"\n",
    "        # Obtener predicciones de train de cada modelo base\n",
    "        meta_features = np.column_stack([model.predict(X_train) for model in self.base_models])\n",
    "        \n",
    "        # Entrenar meta-modelo\n",
    "        self.meta_model.fit(meta_features, y_train)\n",
    "        return self\n",
    "    \n",
    "    def predict(self, X):\n",
    "        \"\"\"\n",
    "        Predice usando los modelos base y el meta-modelo\n",
    "        \"\"\"\n",
    "        # Obtener predicciones de cada modelo base\n",
    "        meta_features = np.column_stack([model.predict(X) for model in self.base_models])\n",
    "        \n",
    "        # Predecir con meta-modelo\n",
    "        return self.meta_model.predict(meta_features)\n",
    "    \n",
    "    def score(self, X, y_true):\n",
    "        \"\"\"\n",
    "        Evalúa el stacking en RMSE y R²\n",
    "        \"\"\"\n",
    "        y_pred = self.predict(X)\n",
    "        rmse = mean_squared_error(y_true, y_pred, squared=False)\n",
    "        r2 = r2_score(y_true, y_pred)\n",
    "        return rmse, r2"
   ]
  },
  {
   "cell_type": "code",
   "execution_count": 1,
   "id": "3adfd1c1",
   "metadata": {},
   "outputs": [
    {
     "data": {
      "text/plain": [
       "3"
      ]
     },
     "execution_count": 1,
     "metadata": {},
     "output_type": "execute_result"
    }
   ],
   "source": [
    "import gc\n",
    "gc.collect()"
   ]
  }
 ],
 "metadata": {
  "kernelspec": {
   "display_name": "mlops_taxi",
   "language": "python",
   "name": "python3"
  },
  "language_info": {
   "codemirror_mode": {
    "name": "ipython",
    "version": 3
   },
   "file_extension": ".py",
   "mimetype": "text/x-python",
   "name": "python",
   "nbconvert_exporter": "python",
   "pygments_lexer": "ipython3",
   "version": "3.11.13"
  }
 },
 "nbformat": 4,
 "nbformat_minor": 5
}
